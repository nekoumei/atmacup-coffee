{
 "cells": [
  {
   "cell_type": "code",
   "execution_count": 1,
   "metadata": {
    "ExecuteTime": {
     "end_time": "2021-01-11T09:39:41.886511Z",
     "start_time": "2021-01-11T09:39:40.990081Z"
    }
   },
   "outputs": [],
   "source": [
    "import numpy as np\n",
    "import pandas as pd\n",
    "import lightgbm as lgb\n",
    "from tqdm.notebook import tqdm\n",
    "from sklearn.model_selection import GroupKFold\n",
    "from sklearn.metrics import mean_absolute_error\n",
    "from xfeat.helper import aggregation\n",
    "import category_encoders as ce\n",
    "import joblib\n",
    "\n",
    "pd.options.display.max_columns = 500"
   ]
  },
  {
   "cell_type": "code",
   "execution_count": 2,
   "metadata": {
    "ExecuteTime": {
     "end_time": "2021-01-11T09:39:41.893559Z",
     "start_time": "2021-01-11T09:39:41.887748Z"
    }
   },
   "outputs": [
    {
     "name": "stdout",
     "output_type": "stream",
     "text": [
      "numpy 1.19.2\n",
      "pandas 1.1.3\n",
      "lightgbm 3.1.0\n",
      "sklearn 0.23.2\n",
      "xfeat 0.1.0\n",
      "category_encoders 2.2.2\n",
      "joblib 0.17.0\n"
     ]
    }
   ],
   "source": [
    "import sklearn, xfeat\n",
    "for library in [np, pd, lgb, sklearn, xfeat, ce, joblib]:\n",
    "    print(f'{library.__name__} {library.__version__}')"
   ]
  },
  {
   "cell_type": "code",
   "execution_count": 3,
   "metadata": {
    "ExecuteTime": {
     "end_time": "2021-01-11T09:39:41.911687Z",
     "start_time": "2021-01-11T09:39:41.894560Z"
    }
   },
   "outputs": [],
   "source": [
    "def read_data():\n",
    "    train = pd.read_csv('../data/train.csv')\n",
    "    test = pd.read_csv('../data/test.csv')\n",
    "    return train, test\n",
    "\n",
    "train, test = read_data()"
   ]
  },
  {
   "cell_type": "code",
   "execution_count": 4,
   "metadata": {
    "ExecuteTime": {
     "end_time": "2021-01-11T09:39:41.916246Z",
     "start_time": "2021-01-11T09:39:41.912754Z"
    },
    "scrolled": true
   },
   "outputs": [],
   "source": [
    "targets = ['aroma', 'flavor', 'aftertaste', 'acidity', 'body', 'balance', 'uniformity',\n",
    "           'clean_cup', 'sweetness', 'cupper_points', 'total_cup_points']\n",
    "groups = train['farm_name']\n",
    "train.drop('farm_name', axis=1, inplace=True)\n",
    "test.drop('farm_name', axis=1, inplace=True)"
   ]
  },
  {
   "cell_type": "code",
   "execution_count": 5,
   "metadata": {
    "ExecuteTime": {
     "end_time": "2021-01-11T09:39:41.927152Z",
     "start_time": "2021-01-11T09:39:41.916990Z"
    }
   },
   "outputs": [],
   "source": [
    "def target_encoding(X_train, y_train, X_test, col_name, replace=True):\n",
    "    X_train = X_train.copy()\n",
    "    X_test = X_test.copy()\n",
    "    \n",
    "    # テストデータのカテゴリを変換する\n",
    "    Xy = pd.DataFrame({'trans_col': X_train[col_name], 'target': y_train})\n",
    "    target_mean_all = Xy.groupby('trans_col')['target'].mean()\n",
    "    if replace:\n",
    "        X_test[col_name] = X_test[col_name].map(target_mean_all)\n",
    "    else:\n",
    "        X_test[f'te_{col_name}'] = X_test[col_name].map(target_mean_all)\n",
    "\n",
    "    # trainを変換する\n",
    "    oof_target = np.zeros(X_train.shape[0])\n",
    "    kf = GroupKFold(n_splits=5)\n",
    "    for idx_1, idx_2 in kf.split(X_train, groups=groups):\n",
    "        target_mean = Xy.iloc[idx_1, :].groupby('trans_col')['target'].mean()\n",
    "        oof_target[idx_2] = X_train[col_name].iloc[idx_2].map(target_mean)\n",
    "    \n",
    "    if replace:\n",
    "        X_train[col_name] = oof_target\n",
    "    else:\n",
    "        X_train[f'te_{col_name}'] = oof_target\n",
    "    \n",
    "    return X_train, X_test"
   ]
  },
  {
   "cell_type": "code",
   "execution_count": 6,
   "metadata": {
    "ExecuteTime": {
     "end_time": "2021-01-11T09:39:41.945575Z",
     "start_time": "2021-01-11T09:39:41.928000Z"
    },
    "code_folding": []
   },
   "outputs": [],
   "source": [
    "# ref: https://www.guruguru.science/competitions/15/discussions/559b789a-3196-40cf-9d14-cb5b6495308f/\n",
    "class BaseBlock(object):\n",
    "    def fit(self, input_df, y=None):\n",
    "        return self.transform(input_df)\n",
    "\n",
    "    def transform(self, input_df):\n",
    "        raise NotImplementedError()\n",
    "        \n",
    "class CountEncodingBlock(BaseBlock):\n",
    "    def __init__(self, cols):\n",
    "        self.cols = cols\n",
    "        self.encoder = None\n",
    "\n",
    "    def fit(self, input_df, y=None):\n",
    "        return self.transform(input_df[self.cols])\n",
    "\n",
    "    def transform(self, input_df):\n",
    "        self.encoder = ce.CountEncoder()\n",
    "        self.encoder.fit(input_df[self.cols])\n",
    "        return self.encoder.transform(input_df[self.cols]).add_prefix(\"CE_\")\n",
    "    \n",
    "def get_ce_features(input_df):\n",
    "    _input_df = pd.concat([\n",
    "        input_df,\n",
    "        get_defects_features(input_df),\n",
    "    ], axis=1)\n",
    "\n",
    "    cols = [\n",
    "        \"species\",\n",
    "        \"owner\",\n",
    "        \"countryof_origin\",\n",
    "        \"mill\", \n",
    "        \"company\",\n",
    "        \"region\", \n",
    "        \"producer\",\n",
    "        \"in_country_partner\", \n",
    "        \"owner1\",\n",
    "        \"variety\",\n",
    "        \"processing_method\", \n",
    "        \"color\",\n",
    "        \"unit_of_measurement\",\n",
    "        \"category_one_defects_raw\",\n",
    "        \"category_two_defects_raw\",\n",
    "        \"category_one_and_two_defects_raw\",\n",
    "    ]\n",
    "    encoder = CountEncodingBlock(cols=cols)\n",
    "    output_df = encoder.fit(_input_df.astype(str))\n",
    "    return output_df\n",
    "\n",
    "def get_num_bags_feature(input_df):\n",
    "    output_df = pd.DataFrame()\n",
    "    output_df[\"numberof_bags_raw\"] = input_df[\"numberof_bags\"]\n",
    "    tmp = [t.zfill(3) for t in input_df[\"numberof_bags\"].astype(str)]\n",
    "    output_df[\"numberof_bags_100\"] = [int(t[0]) for t in tmp] \n",
    "    output_df[\"numberof_bags_010\"] = [int(t[1]) for t in tmp] \n",
    "    output_df[\"numberof_bags_001\"] = [int(t[2]) for t in tmp] \n",
    "    return output_df\n",
    "\n",
    "def get_bag_weight_features(input_df):\n",
    "    output_df = pd.DataFrame()\n",
    "    tmp = input_df['bag_weight'].str.extract(r'(\\d*)\\s*([a-zA-Z]*)')\n",
    "    tmp.columns = ['bag_weight_value', 'bag_weight_unit']\n",
    "    tmp[\"bag_weight_value\"] = tmp[\"bag_weight_value\"].astype(int)\n",
    "    tmp.loc[tmp[\"bag_weight_unit\"] == \"kg\", 'bag_weight_value'] = tmp[\"bag_weight_value\"][tmp[\"bag_weight_unit\"] == \"kg\"] * 1000\n",
    "    tmp.loc[tmp[\"bag_weight_unit\"] == \"lbs\", 'bag_weight_value'] = tmp[\"bag_weight_value\"][tmp[\"bag_weight_unit\"] == \"lbs\"] * 453\n",
    "    tmp.loc[tmp[\"bag_weight_unit\"] == \"\", 'bag_weight_value'] = tmp[\"bag_weight_value\"][tmp[\"bag_weight_unit\"] == \"\"] * 1000\n",
    "    output_df[\"bag_weight_g\"] = tmp[\"bag_weight_value\"]\n",
    "    output_df[\"bag_weight_log_g\"] = np.log1p(output_df[\"bag_weight_g\"])\n",
    "    return output_df\n",
    "\n",
    "def get_hervest_year_features(input_df):\n",
    "    # help me\n",
    "    key_year = ['2012','2014','2013','2015','2016',\n",
    "       '2017','2013/2014','2015/2016','2011','2017 / 2018',\n",
    "       '2014/2015','2009/2010','2010','2010-2011','2016 / 2017',\n",
    "       '4T/10','Mayo a Julio','March 2010','4T/2010','2009-2010',\n",
    "       '08/09 crop','2011/2012','January 2011','Abril - Julio','May-August',\n",
    "       '2016/2017','4T72010','Sept 2009 - April 2010','August to December','23 July 2010',\n",
    "       '2009 - 2010','4t/2010','1t/2011','2009 / 2010','Spring 2011 in Colombia.',\n",
    "       'TEST','mmm','4t/2011','47/2010','December 2009-March 2010',\n",
    "       '3T/2011','Abril - Julio /2011','1T/2011','2018','January Through April','Fall 2009']\n",
    "    val_year = [2012, 2014, 2013, 2015, 2016, 2017, 2013, \n",
    "       2015, 2011, 2017, 2014, 2009,\n",
    "       2010, 2010, 2016, 2010, np.nan,\n",
    "       2010, 2010, 2009, np.nan, 2011, \n",
    "       2011, np.nan, np.nan, 2016, \n",
    "       2010, 2009, np.nan, \n",
    "       2010, 2009, 2010,2011, 2009, \n",
    "       2011, np.nan, np.nan, 2011, 2010,\n",
    "       2009, 2011, 2011,\n",
    "       2011, 2018, np.nan, 2009]\n",
    "    dic_df = pd.DataFrame()\n",
    "    dic_df[\"key_year\"] = key_year\n",
    "    dic_df[\"val_year\"] = val_year\n",
    "    # print(dic_df)\n",
    "\n",
    "    output_df = pd.DataFrame()\n",
    "    harvest_year_dic = dict(zip(dic_df[\"key_year\"], dic_df[\"val_year\"]))\n",
    "    output_df[\"harvest_year\"] = input_df[\"harvest_year\"].map(harvest_year_dic)\n",
    "    return output_df\n",
    "\n",
    "def get_altitude_features(input_df):\n",
    "    cols = [\n",
    "        \"altitude_low_meters\",\n",
    "        \"altitude_high_meters\",\n",
    "        \"altitude_mean_meters\",\n",
    "    ]\n",
    "    return input_df[cols].copy()\n",
    "\n",
    "def get_grading_date_features(input_df):\n",
    "    output_df = pd.DataFrame()\n",
    "    tmp = pd.to_datetime(input_df[\"grading_date\"])\n",
    "    output_df[\"grading_date_julian\"] = tmp.map(pd.Timestamp.to_julian_date)\n",
    "    output_df[\"grading_date_year\"] = tmp.dt.year\n",
    "    output_df[\"grading_date_month\"] = tmp.dt.month\n",
    "    output_df[\"grading_date_day\"] = tmp.dt.day\n",
    "    tmp_raw = output_df[\"grading_date_year\"].astype(str) + output_df[\"grading_date_month\"].astype(str) + output_df[\"grading_date_day\"].astype(str)\n",
    "    output_df[\"grading_date_raw\"] = tmp_raw.astype(int)\n",
    "    return output_df\n",
    "\n",
    "def get_expiration_features(input_df):\n",
    "    output_df = pd.DataFrame()\n",
    "    tmp = pd.to_datetime(input_df[\"expiration\"])\n",
    "    output_df[\"expiration_julian\"] = tmp.map(pd.Timestamp.to_julian_date)\n",
    "    output_df[\"expiration_year\"] = tmp.dt.year\n",
    "    output_df[\"expiration_month\"] = tmp.dt.month\n",
    "    output_df[\"expiration_day\"] = tmp.dt.day\n",
    "    tmp_raw = output_df[\"expiration_year\"].astype(str) + output_df[\"expiration_month\"].astype(str) + output_df[\"expiration_day\"].astype(str)\n",
    "    output_df[\"expiration_raw\"] = tmp_raw.astype(int)\n",
    "    return output_df\n",
    "\n",
    "def get_moisture_features(input_df):\n",
    "    output_df = pd.DataFrame()\n",
    "    tmp = input_df[\"moisture\"]\n",
    "    output_df[\"moisture_raw\"] = tmp\n",
    "    output_df[\"moisture_010\"] = [int(str(t)[2]) for t in tmp]\n",
    "    return output_df\n",
    "\n",
    "def get_defects_features(input_df):\n",
    "    output_df = pd.DataFrame()\n",
    "    _df = input_df[[\"category_one_defects\", \"category_two_defects\"]].astype(str)\n",
    "    output_df[\"category_one_defects_raw\"] = _df[\"category_one_defects\"]\n",
    "    output_df[\"category_two_defects_raw\"] = _df[\"category_two_defects\"]\n",
    "    output_df[\"category_one_and_two_defects_raw\"] = _df[\"category_one_defects\"] + _df[\"category_two_defects\"]\n",
    "    output_df = ce.OrdinalEncoder().fit_transform(output_df)\n",
    "    return output_df\n",
    "\n",
    "def get_cross_num_features(input_df):\n",
    "    _input_df = pd.concat([\n",
    "        get_grading_date_features(input_df),\n",
    "        get_expiration_features(input_df),\n",
    "        get_hervest_year_features(input_df),\n",
    "        get_num_bags_feature(input_df),\n",
    "        get_bag_weight_features(input_df),\n",
    "        get_moisture_features(input_df),\n",
    "        get_altitude_features(input_df),\n",
    "    ], axis=1)\n",
    "\n",
    "    output_df = pd.DataFrame()\n",
    "    output_df[\"diff_hervest_grading_year\"] = _input_df[\"harvest_year\"] - _input_df[\"grading_date_year\"]\n",
    "    output_df[\"diff_hervest_expiration_year\"] = _input_df[\"harvest_year\"] - _input_df[\"expiration_year\"]\n",
    "    output_df[\"diff_grading_expiration_year\"] = _input_df[\"grading_date_year\"] - _input_df[\"expiration_year\"]\n",
    "    output_df[\"diff_grading_expiration_day\"] = _input_df[\"grading_date_day\"] - _input_df[\"expiration_day\"]\n",
    "    output_df[\"diff_grading_expiration_julian\"] = _input_df[\"grading_date_julian\"] - _input_df[\"expiration_julian\"]\n",
    "    output_df[\"prod_grading_expiration_day\"] = _input_df[\"grading_date_day\"] * _input_df[\"expiration_day\"]\n",
    "    output_df[\"prod_numBags_bagWeight\"] = _input_df[\"numberof_bags_raw\"] * _input_df[\"bag_weight_g\"]\n",
    "    output_df[\"prod_numBags_logBagWeight\"] = _input_df[\"numberof_bags_raw\"] * _input_df[\"bag_weight_log_g\"]\n",
    "    output_df[\"prod_moisture_altitudeMean\"] = _input_df[\"moisture_raw\"] * _input_df[\"altitude_mean_meters\"]\n",
    "    return output_df\n",
    "\n",
    "def to_features(train, test):\n",
    "    input_df = pd.concat([train, test]).reset_index(drop=True)\n",
    "\n",
    "    processes = [\n",
    "        get_ce_features,\n",
    "        get_num_bags_feature,\n",
    "        get_bag_weight_features,\n",
    "        get_hervest_year_features,\n",
    "        get_grading_date_features,\n",
    "        get_expiration_features,\n",
    "        get_moisture_features,\n",
    "        # get_defects_features,\n",
    "        get_cross_num_features,\n",
    "        #agg_company,\n",
    "        #agg_region,\n",
    "    ]\n",
    "\n",
    "    output_df = pd.DataFrame()\n",
    "    for func in tqdm(processes):\n",
    "        _df = func(input_df)\n",
    "        assert len(_df) == len(input_df), func.__name__\n",
    "        output_df = pd.concat([output_df, _df], axis=1)\n",
    "\n",
    "    train_x = output_df.iloc[:len(train)] \n",
    "    test_x = output_df.iloc[len(train):].reset_index(drop=True)\n",
    "    return train_x, test_x"
   ]
  },
  {
   "cell_type": "code",
   "execution_count": 7,
   "metadata": {
    "ExecuteTime": {
     "end_time": "2021-01-11T09:39:42.276885Z",
     "start_time": "2021-01-11T09:39:41.946397Z"
    },
    "scrolled": true
   },
   "outputs": [
    {
     "data": {
      "application/vnd.jupyter.widget-view+json": {
       "model_id": "ed129b1efb3840e3b50bcb5e5ae9cb05",
       "version_major": 2,
       "version_minor": 0
      },
      "text/plain": [
       "HBox(children=(HTML(value=''), FloatProgress(value=0.0, max=8.0), HTML(value='')))"
      ]
     },
     "metadata": {},
     "output_type": "display_data"
    },
    {
     "name": "stdout",
     "output_type": "stream",
     "text": [
      "\n"
     ]
    }
   ],
   "source": [
    "X_train, X_test = to_features(train, test)"
   ]
  },
  {
   "cell_type": "code",
   "execution_count": 8,
   "metadata": {
    "ExecuteTime": {
     "end_time": "2021-01-11T09:39:42.286639Z",
     "start_time": "2021-01-11T09:39:42.277777Z"
    }
   },
   "outputs": [],
   "source": [
    "train = pd.concat([train.drop('harvest_year', axis=1), X_train], axis=1)\n",
    "test = pd.concat([test.drop('harvest_year', axis=1), X_test], axis=1)"
   ]
  },
  {
   "cell_type": "code",
   "execution_count": 9,
   "metadata": {
    "ExecuteTime": {
     "end_time": "2021-01-11T09:39:42.294418Z",
     "start_time": "2021-01-11T09:39:42.287924Z"
    }
   },
   "outputs": [],
   "source": [
    "cat_cols = ['species', 'owner', 'countryof_origin', 'lot_number', 'mill',\n",
    "       'ico_number', 'company', 'altitude', 'region', 'producer',\n",
    "       'bag_weight', 'in_country_partner',\n",
    "       'grading_date', 'owner1', 'variety', 'processing_method', \n",
    "        'color', 'expiration', 'unit_of_measurement']"
   ]
  },
  {
   "cell_type": "code",
   "execution_count": 10,
   "metadata": {
    "ExecuteTime": {
     "end_time": "2021-01-11T09:39:44.021528Z",
     "start_time": "2021-01-11T09:39:42.295403Z"
    }
   },
   "outputs": [
    {
     "data": {
      "application/vnd.jupyter.widget-view+json": {
       "model_id": "4733c695e6674fc89c0a634af3d8008c",
       "version_major": 2,
       "version_minor": 0
      },
      "text/plain": [
       "HBox(children=(HTML(value=''), FloatProgress(value=0.0, max=11.0), HTML(value='')))"
      ]
     },
     "metadata": {},
     "output_type": "display_data"
    },
    {
     "name": "stdout",
     "output_type": "stream",
     "text": [
      "\n"
     ]
    }
   ],
   "source": [
    "for target in tqdm(targets):\n",
    "    for cat_col in cat_cols:\n",
    "        train, test = target_encoding(train, train[target].copy(), test, cat_col, replace=False)"
   ]
  },
  {
   "cell_type": "code",
   "execution_count": 11,
   "metadata": {
    "ExecuteTime": {
     "end_time": "2021-01-11T09:40:30.849042Z",
     "start_time": "2021-01-11T09:39:44.022306Z"
    },
    "scrolled": true
   },
   "outputs": [
    {
     "data": {
      "application/vnd.jupyter.widget-view+json": {
       "model_id": "0df03ca007684d229542e8f5881150c0",
       "version_major": 2,
       "version_minor": 0
      },
      "text/plain": [
       "HBox(children=(HTML(value=''), FloatProgress(value=0.0, max=19.0), HTML(value='')))"
      ]
     },
     "metadata": {},
     "output_type": "display_data"
    },
    {
     "name": "stdout",
     "output_type": "stream",
     "text": [
      "\n"
     ]
    }
   ],
   "source": [
    "num_cols = [\n",
    " 'altitude_high_meters',\n",
    " 'altitude_low_meters',\n",
    " 'altitude_mean_meters',\n",
    " 'bag_weight_g',\n",
    " 'bag_weight_log_g',\n",
    " 'category_one_defects',\n",
    " 'category_two_defects',\n",
    " 'diff_grading_expiration_day',\n",
    " 'diff_grading_expiration_julian',\n",
    " 'diff_grading_expiration_year',\n",
    " 'diff_hervest_expiration_year',\n",
    " 'diff_hervest_grading_year',\n",
    " 'expiration_day',\n",
    " 'expiration_julian',\n",
    " 'expiration_month',\n",
    " 'expiration_raw',\n",
    " 'expiration_year',\n",
    " 'grading_date_day',\n",
    " 'grading_date_julian',\n",
    " 'grading_date_month',\n",
    " 'grading_date_raw',\n",
    " 'grading_date_year',\n",
    " 'harvest_year',\n",
    " 'moisture',\n",
    " 'moisture_010',\n",
    " 'moisture_raw',\n",
    " 'numberof_bags',\n",
    " 'numberof_bags_001',\n",
    " 'numberof_bags_010',\n",
    " 'numberof_bags_100',\n",
    " 'numberof_bags_raw',\n",
    " 'prod_grading_expiration_day',\n",
    " 'prod_moisture_altitudeMean',\n",
    " 'prod_numBags_bagWeight',\n",
    " 'prod_numBags_logBagWeight',\n",
    " 'quakers'\n",
    "]\n",
    "whole_df = pd.concat([train, test], axis=0).reset_index(drop=True)\n",
    "for cat_col in tqdm(cat_cols):\n",
    "    whole_df, _ = aggregation(whole_df, cat_col, num_cols, agg_methods=['mean', 'min', 'max', 'std'])"
   ]
  },
  {
   "cell_type": "code",
   "execution_count": 12,
   "metadata": {
    "ExecuteTime": {
     "end_time": "2021-01-11T09:40:30.944806Z",
     "start_time": "2021-01-11T09:40:30.849836Z"
    }
   },
   "outputs": [],
   "source": [
    "train = whole_df.iloc[:len(train), :].reset_index(drop=True)\n",
    "test = whole_df.iloc[len(train):, :].reset_index(drop=True).drop(targets, axis=1)"
   ]
  },
  {
   "cell_type": "code",
   "execution_count": 13,
   "metadata": {
    "ExecuteTime": {
     "end_time": "2021-01-11T09:40:30.950628Z",
     "start_time": "2021-01-11T09:40:30.945863Z"
    }
   },
   "outputs": [],
   "source": [
    "def train_lgb(X_train, y_train, X_test, groups):\n",
    "    kf = GroupKFold(n_splits=5)\n",
    "    oof = np.zeros(X_train.shape[0])\n",
    "    y_pred = np.zeros(X_test.shape[0])\n",
    "    \n",
    "    X_train[cat_cols] = X_train[cat_cols].astype('category')\n",
    "    X_test[cat_cols] = X_test[cat_cols].astype('category')\n",
    "    \n",
    "    models = []\n",
    "\n",
    "    for i, (train_index, valid_index) in enumerate(kf.split(X_train, groups=groups)):\n",
    "        print(f'Start {i+1} fold')\n",
    "        print('-' * 20)\n",
    "        X_tr, y_tr = X_train.iloc[train_index, :], y_train.iloc[train_index]\n",
    "        X_val, y_val = X_train.iloc[valid_index, :], y_train.iloc[valid_index]\n",
    "        X_tes = X_test.copy()\n",
    "\n",
    "        lgb_train = lgb.Dataset(X_tr, y_tr)\n",
    "        lgb_valid = lgb.Dataset(X_val, y_val, reference=lgb_train)\n",
    "        lgb_params = {\n",
    "            'objective': 'mae',\n",
    "            'metric': 'mae',\n",
    "            'max_depth': 3,\n",
    "            'num_leaves': 2 ** 8,\n",
    "            'learning_rate': 0.01,\n",
    "            'bagging_fraction': 0.8,\n",
    "            'feature_fraction': 0.1,\n",
    "            'random_state': 0,\n",
    "            'verbosity': -1\n",
    "            }\n",
    "        model = lgb.train(\n",
    "            lgb_params,\n",
    "            lgb_train,\n",
    "            valid_sets=(lgb_train, lgb_valid),\n",
    "            num_boost_round=100000000,\n",
    "            early_stopping_rounds=300,\n",
    "            verbose_eval=1000\n",
    "        )\n",
    "        models.append(model)\n",
    "        oof[valid_index] = model.predict(X_val)\n",
    "        y_pred += model.predict(X_tes) / 5\n",
    "    \n",
    "    return oof, y_pred, models"
   ]
  },
  {
   "cell_type": "code",
   "execution_count": 14,
   "metadata": {
    "ExecuteTime": {
     "end_time": "2021-01-11T09:42:05.412308Z",
     "start_time": "2021-01-11T09:40:30.951355Z"
    },
    "scrolled": true
   },
   "outputs": [
    {
     "data": {
      "application/vnd.jupyter.widget-view+json": {
       "model_id": "b506fc2dae21443e9a24c13d7dbe96b9",
       "version_major": 2,
       "version_minor": 0
      },
      "text/plain": [
       "HBox(children=(HTML(value=''), FloatProgress(value=0.0, max=11.0), HTML(value='')))"
      ]
     },
     "metadata": {},
     "output_type": "display_data"
    },
    {
     "name": "stdout",
     "output_type": "stream",
     "text": [
      "start aroma ----------\n",
      "Start 1 fold\n",
      "--------------------\n"
     ]
    },
    {
     "name": "stderr",
     "output_type": "stream",
     "text": [
      "/home/nekoumei/anaconda3/lib/python3.7/site-packages/lightgbm/basic.py:1286: UserWarning:\n",
      "\n",
      "Overriding the parameters from Reference Dataset.\n",
      "\n",
      "/home/nekoumei/anaconda3/lib/python3.7/site-packages/lightgbm/basic.py:1098: UserWarning:\n",
      "\n",
      "categorical_column in param dict is overridden.\n",
      "\n"
     ]
    },
    {
     "name": "stdout",
     "output_type": "stream",
     "text": [
      "Training until validation scores don't improve for 300 rounds\n",
      "Early stopping, best iteration is:\n",
      "[268]\ttraining's l1: 5.45893\tvalid_1's l1: 7.17749\n",
      "Start 2 fold\n",
      "--------------------\n",
      "Training until validation scores don't improve for 300 rounds\n",
      "[1000]\ttraining's l1: 4.41581\tvalid_1's l1: 5.81136\n",
      "[2000]\ttraining's l1: 4.00888\tvalid_1's l1: 5.76421\n",
      "Early stopping, best iteration is:\n",
      "[2056]\ttraining's l1: 3.99878\tvalid_1's l1: 5.76307\n",
      "Start 3 fold\n",
      "--------------------\n",
      "Training until validation scores don't improve for 300 rounds\n",
      "[1000]\ttraining's l1: 4.25204\tvalid_1's l1: 7.26381\n",
      "[2000]\ttraining's l1: 3.85437\tvalid_1's l1: 7.16633\n",
      "[3000]\ttraining's l1: 3.66209\tvalid_1's l1: 7.14708\n",
      "[4000]\ttraining's l1: 3.51902\tvalid_1's l1: 7.12024\n",
      "[5000]\ttraining's l1: 3.4269\tvalid_1's l1: 7.11\n",
      "[6000]\ttraining's l1: 3.35398\tvalid_1's l1: 7.09432\n",
      "Early stopping, best iteration is:\n",
      "[6598]\ttraining's l1: 3.31683\tvalid_1's l1: 7.07828\n",
      "Start 4 fold\n",
      "--------------------\n",
      "Training until validation scores don't improve for 300 rounds\n",
      "[1000]\ttraining's l1: 4.27537\tvalid_1's l1: 7.4137\n",
      "[2000]\ttraining's l1: 3.93205\tvalid_1's l1: 7.3522\n",
      "[3000]\ttraining's l1: 3.72341\tvalid_1's l1: 7.33185\n",
      "[4000]\ttraining's l1: 3.60887\tvalid_1's l1: 7.31713\n",
      "[5000]\ttraining's l1: 3.51377\tvalid_1's l1: 7.30732\n",
      "[6000]\ttraining's l1: 3.42776\tvalid_1's l1: 7.28843\n",
      "[7000]\ttraining's l1: 3.34668\tvalid_1's l1: 7.27886\n",
      "[8000]\ttraining's l1: 3.28784\tvalid_1's l1: 7.26586\n",
      "Early stopping, best iteration is:\n",
      "[8026]\ttraining's l1: 3.28601\tvalid_1's l1: 7.26552\n",
      "Start 5 fold\n",
      "--------------------\n",
      "Training until validation scores don't improve for 300 rounds\n",
      "[1000]\ttraining's l1: 4.47126\tvalid_1's l1: 6.2932\n",
      "[2000]\ttraining's l1: 4.069\tvalid_1's l1: 6.24314\n",
      "Early stopping, best iteration is:\n",
      "[1977]\ttraining's l1: 4.07806\tvalid_1's l1: 6.23964\n",
      "start flavor ----------\n",
      "Start 1 fold\n",
      "--------------------\n"
     ]
    },
    {
     "name": "stderr",
     "output_type": "stream",
     "text": [
      "/home/nekoumei/anaconda3/lib/python3.7/site-packages/lightgbm/basic.py:1286: UserWarning:\n",
      "\n",
      "Overriding the parameters from Reference Dataset.\n",
      "\n",
      "/home/nekoumei/anaconda3/lib/python3.7/site-packages/lightgbm/basic.py:1098: UserWarning:\n",
      "\n",
      "categorical_column in param dict is overridden.\n",
      "\n"
     ]
    },
    {
     "name": "stdout",
     "output_type": "stream",
     "text": [
      "Training until validation scores don't improve for 300 rounds\n",
      "Early stopping, best iteration is:\n",
      "[562]\ttraining's l1: 4.83442\tvalid_1's l1: 6.7601\n",
      "Start 2 fold\n",
      "--------------------\n",
      "Training until validation scores don't improve for 300 rounds\n",
      "Early stopping, best iteration is:\n",
      "[689]\ttraining's l1: 4.6978\tvalid_1's l1: 5.93616\n",
      "Start 3 fold\n",
      "--------------------\n",
      "Training until validation scores don't improve for 300 rounds\n",
      "Early stopping, best iteration is:\n",
      "[349]\ttraining's l1: 5.08767\tvalid_1's l1: 7.25698\n",
      "Start 4 fold\n",
      "--------------------\n",
      "Training until validation scores don't improve for 300 rounds\n",
      "[1000]\ttraining's l1: 4.52266\tvalid_1's l1: 7.26281\n",
      "[2000]\ttraining's l1: 4.12939\tvalid_1's l1: 7.20097\n",
      "Early stopping, best iteration is:\n",
      "[2471]\ttraining's l1: 4.00877\tvalid_1's l1: 7.18614\n",
      "Start 5 fold\n",
      "--------------------\n",
      "Training until validation scores don't improve for 300 rounds\n",
      "[1000]\ttraining's l1: 4.49481\tvalid_1's l1: 6.67045\n",
      "[2000]\ttraining's l1: 4.09906\tvalid_1's l1: 6.59527\n",
      "[3000]\ttraining's l1: 3.88486\tvalid_1's l1: 6.55386\n",
      "Early stopping, best iteration is:\n",
      "[3494]\ttraining's l1: 3.81807\tvalid_1's l1: 6.54449\n",
      "start aftertaste ----------\n",
      "Start 1 fold\n",
      "--------------------\n"
     ]
    },
    {
     "name": "stderr",
     "output_type": "stream",
     "text": [
      "/home/nekoumei/anaconda3/lib/python3.7/site-packages/lightgbm/basic.py:1286: UserWarning:\n",
      "\n",
      "Overriding the parameters from Reference Dataset.\n",
      "\n",
      "/home/nekoumei/anaconda3/lib/python3.7/site-packages/lightgbm/basic.py:1098: UserWarning:\n",
      "\n",
      "categorical_column in param dict is overridden.\n",
      "\n"
     ]
    },
    {
     "name": "stdout",
     "output_type": "stream",
     "text": [
      "Training until validation scores don't improve for 300 rounds\n",
      "[1000]\ttraining's l1: 4.42372\tvalid_1's l1: 6.72175\n",
      "Early stopping, best iteration is:\n",
      "[773]\ttraining's l1: 4.63647\tvalid_1's l1: 6.69308\n",
      "Start 2 fold\n",
      "--------------------\n",
      "Training until validation scores don't improve for 300 rounds\n",
      "[1000]\ttraining's l1: 4.29909\tvalid_1's l1: 6.47312\n",
      "Early stopping, best iteration is:\n",
      "[1341]\ttraining's l1: 4.08499\tvalid_1's l1: 6.46326\n",
      "Start 3 fold\n",
      "--------------------\n",
      "Training until validation scores don't improve for 300 rounds\n",
      "[1000]\ttraining's l1: 4.30979\tvalid_1's l1: 7.49392\n",
      "Early stopping, best iteration is:\n",
      "[802]\ttraining's l1: 4.46773\tvalid_1's l1: 7.49061\n",
      "Start 4 fold\n",
      "--------------------\n",
      "Training until validation scores don't improve for 300 rounds\n",
      "[1000]\ttraining's l1: 4.4083\tvalid_1's l1: 7.13897\n",
      "Early stopping, best iteration is:\n",
      "[1580]\ttraining's l1: 4.12864\tvalid_1's l1: 7.11469\n",
      "Start 5 fold\n",
      "--------------------\n",
      "Training until validation scores don't improve for 300 rounds\n",
      "[1000]\ttraining's l1: 4.61368\tvalid_1's l1: 5.69748\n",
      "Early stopping, best iteration is:\n",
      "[753]\ttraining's l1: 4.85606\tvalid_1's l1: 5.67053\n",
      "start acidity ----------\n",
      "Start 1 fold\n",
      "--------------------\n"
     ]
    },
    {
     "name": "stderr",
     "output_type": "stream",
     "text": [
      "/home/nekoumei/anaconda3/lib/python3.7/site-packages/lightgbm/basic.py:1286: UserWarning:\n",
      "\n",
      "Overriding the parameters from Reference Dataset.\n",
      "\n",
      "/home/nekoumei/anaconda3/lib/python3.7/site-packages/lightgbm/basic.py:1098: UserWarning:\n",
      "\n",
      "categorical_column in param dict is overridden.\n",
      "\n"
     ]
    },
    {
     "name": "stdout",
     "output_type": "stream",
     "text": [
      "Training until validation scores don't improve for 300 rounds\n",
      "[1000]\ttraining's l1: 4.35048\tvalid_1's l1: 7.06266\n",
      "Early stopping, best iteration is:\n",
      "[1349]\ttraining's l1: 4.12007\tvalid_1's l1: 7.03976\n",
      "Start 2 fold\n",
      "--------------------\n",
      "Training until validation scores don't improve for 300 rounds\n",
      "Early stopping, best iteration is:\n",
      "[406]\ttraining's l1: 5.27181\tvalid_1's l1: 5.78772\n",
      "Start 3 fold\n",
      "--------------------\n",
      "Training until validation scores don't improve for 300 rounds\n",
      "[1000]\ttraining's l1: 4.16631\tvalid_1's l1: 7.91848\n",
      "Early stopping, best iteration is:\n",
      "[1363]\ttraining's l1: 3.97734\tvalid_1's l1: 7.89746\n",
      "Start 4 fold\n",
      "--------------------\n",
      "Training until validation scores don't improve for 300 rounds\n",
      "[1000]\ttraining's l1: 4.34259\tvalid_1's l1: 6.78545\n",
      "[2000]\ttraining's l1: 3.93819\tvalid_1's l1: 6.73141\n",
      "[3000]\ttraining's l1: 3.73448\tvalid_1's l1: 6.70764\n",
      "[4000]\ttraining's l1: 3.60752\tvalid_1's l1: 6.66924\n",
      "Early stopping, best iteration is:\n",
      "[4321]\ttraining's l1: 3.57084\tvalid_1's l1: 6.65922\n",
      "Start 5 fold\n",
      "--------------------\n",
      "Training until validation scores don't improve for 300 rounds\n",
      "[1000]\ttraining's l1: 4.50271\tvalid_1's l1: 5.97027\n",
      "[2000]\ttraining's l1: 4.02428\tvalid_1's l1: 5.92108\n",
      "Early stopping, best iteration is:\n",
      "[1725]\ttraining's l1: 4.12832\tvalid_1's l1: 5.9173\n",
      "start body ----------\n",
      "Start 1 fold\n",
      "--------------------\n"
     ]
    },
    {
     "name": "stderr",
     "output_type": "stream",
     "text": [
      "/home/nekoumei/anaconda3/lib/python3.7/site-packages/lightgbm/basic.py:1286: UserWarning:\n",
      "\n",
      "Overriding the parameters from Reference Dataset.\n",
      "\n",
      "/home/nekoumei/anaconda3/lib/python3.7/site-packages/lightgbm/basic.py:1098: UserWarning:\n",
      "\n",
      "categorical_column in param dict is overridden.\n",
      "\n"
     ]
    },
    {
     "name": "stdout",
     "output_type": "stream",
     "text": [
      "Training until validation scores don't improve for 300 rounds\n",
      "[1000]\ttraining's l1: 4.57275\tvalid_1's l1: 6.39641\n",
      "[2000]\ttraining's l1: 4.11411\tvalid_1's l1: 6.35684\n",
      "Early stopping, best iteration is:\n",
      "[2685]\ttraining's l1: 3.97667\tvalid_1's l1: 6.33103\n",
      "Start 2 fold\n",
      "--------------------\n",
      "Training until validation scores don't improve for 300 rounds\n",
      "[1000]\ttraining's l1: 4.36074\tvalid_1's l1: 6.23242\n",
      "Early stopping, best iteration is:\n",
      "[1191]\ttraining's l1: 4.23672\tvalid_1's l1: 6.22625\n",
      "Start 3 fold\n",
      "--------------------\n",
      "Training until validation scores don't improve for 300 rounds\n",
      "Early stopping, best iteration is:\n",
      "[169]\ttraining's l1: 5.73772\tvalid_1's l1: 7.31925\n",
      "Start 4 fold\n",
      "--------------------\n",
      "Training until validation scores don't improve for 300 rounds\n",
      "[1000]\ttraining's l1: 4.39183\tvalid_1's l1: 7.20588\n",
      "Early stopping, best iteration is:\n",
      "[1454]\ttraining's l1: 4.1531\tvalid_1's l1: 7.18823\n",
      "Start 5 fold\n",
      "--------------------\n",
      "Training until validation scores don't improve for 300 rounds\n",
      "[1000]\ttraining's l1: 4.58044\tvalid_1's l1: 6.05109\n",
      "[2000]\ttraining's l1: 4.14683\tvalid_1's l1: 5.95146\n",
      "[3000]\ttraining's l1: 3.93378\tvalid_1's l1: 5.91394\n",
      "[4000]\ttraining's l1: 3.79644\tvalid_1's l1: 5.89801\n",
      "[5000]\ttraining's l1: 3.68542\tvalid_1's l1: 5.88332\n",
      "[6000]\ttraining's l1: 3.58956\tvalid_1's l1: 5.85868\n",
      "[7000]\ttraining's l1: 3.51791\tvalid_1's l1: 5.84705\n",
      "[8000]\ttraining's l1: 3.44864\tvalid_1's l1: 5.83892\n",
      "Early stopping, best iteration is:\n",
      "[7708]\ttraining's l1: 3.46611\tvalid_1's l1: 5.8383\n",
      "start balance ----------\n",
      "Start 1 fold\n",
      "--------------------\n"
     ]
    },
    {
     "name": "stderr",
     "output_type": "stream",
     "text": [
      "/home/nekoumei/anaconda3/lib/python3.7/site-packages/lightgbm/basic.py:1286: UserWarning:\n",
      "\n",
      "Overriding the parameters from Reference Dataset.\n",
      "\n",
      "/home/nekoumei/anaconda3/lib/python3.7/site-packages/lightgbm/basic.py:1098: UserWarning:\n",
      "\n",
      "categorical_column in param dict is overridden.\n",
      "\n"
     ]
    },
    {
     "name": "stdout",
     "output_type": "stream",
     "text": [
      "Training until validation scores don't improve for 300 rounds\n",
      "[1000]\ttraining's l1: 4.30072\tvalid_1's l1: 6.40289\n",
      "Early stopping, best iteration is:\n",
      "[1543]\ttraining's l1: 4.01021\tvalid_1's l1: 6.38895\n",
      "Start 2 fold\n",
      "--------------------\n",
      "Training until validation scores don't improve for 300 rounds\n",
      "Early stopping, best iteration is:\n",
      "[458]\ttraining's l1: 4.92082\tvalid_1's l1: 6.13063\n",
      "Start 3 fold\n",
      "--------------------\n",
      "Training until validation scores don't improve for 300 rounds\n",
      "Early stopping, best iteration is:\n",
      "[338]\ttraining's l1: 5.07392\tvalid_1's l1: 6.76248\n",
      "Start 4 fold\n",
      "--------------------\n",
      "Training until validation scores don't improve for 300 rounds\n",
      "[1000]\ttraining's l1: 4.38804\tvalid_1's l1: 6.43722\n",
      "Early stopping, best iteration is:\n",
      "[892]\ttraining's l1: 4.46532\tvalid_1's l1: 6.43311\n",
      "Start 5 fold\n",
      "--------------------\n",
      "Training until validation scores don't improve for 300 rounds\n",
      "[1000]\ttraining's l1: 4.34016\tvalid_1's l1: 6.37154\n",
      "[2000]\ttraining's l1: 3.88458\tvalid_1's l1: 6.25823\n",
      "[3000]\ttraining's l1: 3.64506\tvalid_1's l1: 6.23014\n",
      "[4000]\ttraining's l1: 3.50717\tvalid_1's l1: 6.21183\n",
      "Early stopping, best iteration is:\n",
      "[3736]\ttraining's l1: 3.53148\tvalid_1's l1: 6.20886\n",
      "start uniformity ----------\n",
      "Start 1 fold\n",
      "--------------------\n"
     ]
    },
    {
     "name": "stderr",
     "output_type": "stream",
     "text": [
      "/home/nekoumei/anaconda3/lib/python3.7/site-packages/lightgbm/basic.py:1286: UserWarning:\n",
      "\n",
      "Overriding the parameters from Reference Dataset.\n",
      "\n",
      "/home/nekoumei/anaconda3/lib/python3.7/site-packages/lightgbm/basic.py:1098: UserWarning:\n",
      "\n",
      "categorical_column in param dict is overridden.\n",
      "\n"
     ]
    },
    {
     "name": "stdout",
     "output_type": "stream",
     "text": [
      "Training until validation scores don't improve for 300 rounds\n",
      "Early stopping, best iteration is:\n",
      "[1]\ttraining's l1: 8.60199\tvalid_1's l1: 9.15674\n",
      "Start 2 fold\n",
      "--------------------\n",
      "Training until validation scores don't improve for 300 rounds\n",
      "Early stopping, best iteration is:\n",
      "[1]\ttraining's l1: 9.11178\tvalid_1's l1: 7.11556\n",
      "Start 3 fold\n",
      "--------------------\n",
      "Training until validation scores don't improve for 300 rounds\n",
      "Early stopping, best iteration is:\n",
      "[1]\ttraining's l1: 8.73218\tvalid_1's l1: 8.62701\n",
      "Start 4 fold\n",
      "--------------------\n",
      "Training until validation scores don't improve for 300 rounds\n",
      "Early stopping, best iteration is:\n",
      "[1]\ttraining's l1: 8.52838\tvalid_1's l1: 9.4551\n",
      "Start 5 fold\n",
      "--------------------\n",
      "Training until validation scores don't improve for 300 rounds\n",
      "Early stopping, best iteration is:\n",
      "[5]\ttraining's l1: 8.57897\tvalid_1's l1: 9.21866\n",
      "start clean_cup ----------\n",
      "Start 1 fold\n",
      "--------------------\n"
     ]
    },
    {
     "name": "stderr",
     "output_type": "stream",
     "text": [
      "/home/nekoumei/anaconda3/lib/python3.7/site-packages/lightgbm/basic.py:1286: UserWarning:\n",
      "\n",
      "Overriding the parameters from Reference Dataset.\n",
      "\n",
      "/home/nekoumei/anaconda3/lib/python3.7/site-packages/lightgbm/basic.py:1098: UserWarning:\n",
      "\n",
      "categorical_column in param dict is overridden.\n",
      "\n"
     ]
    },
    {
     "name": "stdout",
     "output_type": "stream",
     "text": [
      "Training until validation scores don't improve for 300 rounds\n",
      "Early stopping, best iteration is:\n",
      "[1]\ttraining's l1: 5.33796\tvalid_1's l1: 6.85591\n",
      "Start 2 fold\n",
      "--------------------\n",
      "Training until validation scores don't improve for 300 rounds\n",
      "Early stopping, best iteration is:\n",
      "[1]\ttraining's l1: 5.42062\tvalid_1's l1: 6.52663\n",
      "Start 3 fold\n",
      "--------------------\n",
      "Training until validation scores don't improve for 300 rounds\n",
      "Early stopping, best iteration is:\n",
      "[1]\ttraining's l1: 5.78106\tvalid_1's l1: 5.08705\n",
      "Start 4 fold\n",
      "--------------------\n",
      "Training until validation scores don't improve for 300 rounds\n",
      "Early stopping, best iteration is:\n",
      "[1]\ttraining's l1: 5.57499\tvalid_1's l1: 5.91364\n",
      "Start 5 fold\n",
      "--------------------\n",
      "Training until validation scores don't improve for 300 rounds\n",
      "Early stopping, best iteration is:\n",
      "[1]\ttraining's l1: 6.09748\tvalid_1's l1: 3.81783\n",
      "start sweetness ----------\n",
      "Start 1 fold\n",
      "--------------------\n"
     ]
    },
    {
     "name": "stderr",
     "output_type": "stream",
     "text": [
      "/home/nekoumei/anaconda3/lib/python3.7/site-packages/lightgbm/basic.py:1286: UserWarning:\n",
      "\n",
      "Overriding the parameters from Reference Dataset.\n",
      "\n",
      "/home/nekoumei/anaconda3/lib/python3.7/site-packages/lightgbm/basic.py:1098: UserWarning:\n",
      "\n",
      "categorical_column in param dict is overridden.\n",
      "\n"
     ]
    },
    {
     "name": "stdout",
     "output_type": "stream",
     "text": [
      "Training until validation scores don't improve for 300 rounds\n",
      "Early stopping, best iteration is:\n",
      "[3]\ttraining's l1: 5.96912\tvalid_1's l1: 5.28858\n",
      "Start 2 fold\n",
      "--------------------\n",
      "Training until validation scores don't improve for 300 rounds\n",
      "Early stopping, best iteration is:\n",
      "[1]\ttraining's l1: 6.15872\tvalid_1's l1: 4.66716\n",
      "Start 3 fold\n",
      "--------------------\n",
      "Training until validation scores don't improve for 300 rounds\n",
      "Early stopping, best iteration is:\n",
      "[491]\ttraining's l1: 4.18048\tvalid_1's l1: 4.07112\n",
      "Start 4 fold\n",
      "--------------------\n",
      "Training until validation scores don't improve for 300 rounds\n",
      "Early stopping, best iteration is:\n",
      "[1]\ttraining's l1: 5.43066\tvalid_1's l1: 7.5429\n",
      "Start 5 fold\n",
      "--------------------\n",
      "Training until validation scores don't improve for 300 rounds\n",
      "Early stopping, best iteration is:\n",
      "[5]\ttraining's l1: 5.46045\tvalid_1's l1: 7.42707\n",
      "start cupper_points ----------\n",
      "Start 1 fold\n",
      "--------------------\n"
     ]
    },
    {
     "name": "stderr",
     "output_type": "stream",
     "text": [
      "/home/nekoumei/anaconda3/lib/python3.7/site-packages/lightgbm/basic.py:1286: UserWarning:\n",
      "\n",
      "Overriding the parameters from Reference Dataset.\n",
      "\n",
      "/home/nekoumei/anaconda3/lib/python3.7/site-packages/lightgbm/basic.py:1098: UserWarning:\n",
      "\n",
      "categorical_column in param dict is overridden.\n",
      "\n"
     ]
    },
    {
     "name": "stdout",
     "output_type": "stream",
     "text": [
      "Training until validation scores don't improve for 300 rounds\n",
      "Early stopping, best iteration is:\n",
      "[516]\ttraining's l1: 4.8579\tvalid_1's l1: 6.53569\n",
      "Start 2 fold\n",
      "--------------------\n",
      "Training until validation scores don't improve for 300 rounds\n",
      "Early stopping, best iteration is:\n",
      "[535]\ttraining's l1: 4.76714\tvalid_1's l1: 6.34021\n",
      "Start 3 fold\n",
      "--------------------\n",
      "Training until validation scores don't improve for 300 rounds\n",
      "[1000]\ttraining's l1: 4.34015\tvalid_1's l1: 6.8476\n",
      "[2000]\ttraining's l1: 3.96595\tvalid_1's l1: 6.82214\n",
      "[3000]\ttraining's l1: 3.74668\tvalid_1's l1: 6.79637\n",
      "Early stopping, best iteration is:\n",
      "[3314]\ttraining's l1: 3.68981\tvalid_1's l1: 6.78638\n",
      "Start 4 fold\n",
      "--------------------\n",
      "Training until validation scores don't improve for 300 rounds\n",
      "[1000]\ttraining's l1: 4.41177\tvalid_1's l1: 6.83969\n",
      "[2000]\ttraining's l1: 4.0132\tvalid_1's l1: 6.75238\n",
      "[3000]\ttraining's l1: 3.80218\tvalid_1's l1: 6.72488\n",
      "[4000]\ttraining's l1: 3.69483\tvalid_1's l1: 6.69367\n",
      "Early stopping, best iteration is:\n",
      "[4201]\ttraining's l1: 3.67836\tvalid_1's l1: 6.68529\n",
      "Start 5 fold\n",
      "--------------------\n",
      "Training until validation scores don't improve for 300 rounds\n",
      "[1000]\ttraining's l1: 4.41245\tvalid_1's l1: 6.12892\n",
      "Early stopping, best iteration is:\n",
      "[784]\ttraining's l1: 4.58118\tvalid_1's l1: 6.11112\n",
      "start total_cup_points ----------\n",
      "Start 1 fold\n",
      "--------------------\n"
     ]
    },
    {
     "name": "stderr",
     "output_type": "stream",
     "text": [
      "/home/nekoumei/anaconda3/lib/python3.7/site-packages/lightgbm/basic.py:1286: UserWarning:\n",
      "\n",
      "Overriding the parameters from Reference Dataset.\n",
      "\n",
      "/home/nekoumei/anaconda3/lib/python3.7/site-packages/lightgbm/basic.py:1098: UserWarning:\n",
      "\n",
      "categorical_column in param dict is overridden.\n",
      "\n"
     ]
    },
    {
     "name": "stdout",
     "output_type": "stream",
     "text": [
      "Training until validation scores don't improve for 300 rounds\n",
      "[1000]\ttraining's l1: 4.21783\tvalid_1's l1: 6.88124\n",
      "Early stopping, best iteration is:\n",
      "[919]\ttraining's l1: 4.27738\tvalid_1's l1: 6.87308\n",
      "Start 2 fold\n",
      "--------------------\n",
      "Training until validation scores don't improve for 300 rounds\n",
      "Early stopping, best iteration is:\n",
      "[539]\ttraining's l1: 4.90703\tvalid_1's l1: 5.55208\n",
      "Start 3 fold\n",
      "--------------------\n",
      "Training until validation scores don't improve for 300 rounds\n",
      "Early stopping, best iteration is:\n",
      "[617]\ttraining's l1: 4.48103\tvalid_1's l1: 7.26019\n",
      "Start 4 fold\n",
      "--------------------\n",
      "Training until validation scores don't improve for 300 rounds\n",
      "[1000]\ttraining's l1: 4.39682\tvalid_1's l1: 6.76289\n",
      "[2000]\ttraining's l1: 3.95439\tvalid_1's l1: 6.6528\n",
      "[3000]\ttraining's l1: 3.69449\tvalid_1's l1: 6.61412\n",
      "Early stopping, best iteration is:\n",
      "[2977]\ttraining's l1: 3.69742\tvalid_1's l1: 6.61324\n",
      "Start 5 fold\n",
      "--------------------\n",
      "Training until validation scores don't improve for 300 rounds\n",
      "[1000]\ttraining's l1: 4.34743\tvalid_1's l1: 6.36701\n",
      "[2000]\ttraining's l1: 3.84432\tvalid_1's l1: 6.28588\n",
      "Early stopping, best iteration is:\n",
      "[2015]\ttraining's l1: 3.84044\tvalid_1's l1: 6.2848\n",
      "\n"
     ]
    }
   ],
   "source": [
    "oof_df = pd.DataFrame()\n",
    "y_pred_df = pd.DataFrame()\n",
    "all_models = []\n",
    "\n",
    "for target in tqdm(targets):\n",
    "    print(f'start {target} {\"-\" * 10}')\n",
    "    y_train = train[target].copy()\n",
    "    X_train = train.drop(targets, axis=1)\n",
    "    oof, y_pred, models = train_lgb(X_train, y_train, test, groups)\n",
    "    oof_df[target] = oof\n",
    "    y_pred_df[target] = y_pred\n",
    "    all_models.append(models)"
   ]
  },
  {
   "cell_type": "code",
   "execution_count": 15,
   "metadata": {
    "ExecuteTime": {
     "end_time": "2021-01-11T09:42:05.418633Z",
     "start_time": "2021-01-11T09:42:05.413459Z"
    }
   },
   "outputs": [],
   "source": [
    "oof_df = np.clip(oof_df, 0, 100)\n",
    "y_pred_df = np.clip(y_pred_df, 0, 100)"
   ]
  },
  {
   "cell_type": "code",
   "execution_count": 16,
   "metadata": {
    "ExecuteTime": {
     "end_time": "2021-01-11T09:42:05.434172Z",
     "start_time": "2021-01-11T09:42:05.419745Z"
    }
   },
   "outputs": [
    {
     "data": {
      "text/plain": [
       "6.628326748906863"
      ]
     },
     "execution_count": 16,
     "metadata": {},
     "output_type": "execute_result"
    }
   ],
   "source": [
    "mean_absolute_error(train[targets], oof_df)"
   ]
  },
  {
   "cell_type": "code",
   "execution_count": 17,
   "metadata": {
    "ExecuteTime": {
     "end_time": "2021-01-11T09:42:05.494848Z",
     "start_time": "2021-01-11T09:42:05.435255Z"
    }
   },
   "outputs": [
    {
     "data": {
      "text/plain": [
       "['../data/features.joblib']"
      ]
     },
     "execution_count": 17,
     "metadata": {},
     "output_type": "execute_result"
    }
   ],
   "source": [
    "joblib.dump((train, test, cat_cols, groups), '../data/features.joblib')"
   ]
  },
  {
   "cell_type": "code",
   "execution_count": 18,
   "metadata": {
    "ExecuteTime": {
     "end_time": "2021-01-11T09:42:07.675297Z",
     "start_time": "2021-01-11T09:42:05.496025Z"
    }
   },
   "outputs": [
    {
     "data": {
      "image/png": "[encoded data removed]",
      "text/plain": [
       "<Figure size 1080x1080 with 12 Axes>"
      ]
     },
     "metadata": {
      "needs_background": "light"
     },
     "output_type": "display_data"
    }
   ],
   "source": [
    "import matplotlib.pyplot as plt\n",
    "import seaborn as sns\n",
    "import warnings\n",
    "warnings.simplefilter('ignore')\n",
    "%matplotlib inline\n",
    "\n",
    "fig, axs = plt.subplots(nrows=4, ncols=3, figsize=(15, 15))\n",
    "\n",
    "i = 0\n",
    "for ax_row in axs:\n",
    "    for ax in ax_row:\n",
    "        target = targets[i]\n",
    "        #sns.distplot(train[target], ax=ax, label='y_true')\n",
    "        sns.distplot(oof_df[target], ax=ax, label='oof')\n",
    "        sns.distplot(y_pred_df[target], ax=ax, label='test')\n",
    "        ax.legend()\n",
    "        i += 1\n",
    "        if i > 10:\n",
    "            break"
   ]
  },
  {
   "cell_type": "code",
   "execution_count": 19,
   "metadata": {
    "ExecuteTime": {
     "end_time": "2021-01-11T09:42:07.683210Z",
     "start_time": "2021-01-11T09:42:07.676336Z"
    }
   },
   "outputs": [],
   "source": [
    "y_pred_df.to_csv('../output/sub_gkf.csv', index=False)"
   ]
  }
 ],
 "metadata": {
  "kernelspec": {
   "display_name": "Python 3",
   "language": "python",
   "name": "python3"
  },
  "language_info": {
   "codemirror_mode": {
    "name": "ipython",
    "version": 3
   },
   "file_extension": ".py",
   "mimetype": "text/x-python",
   "name": "python",
   "nbconvert_exporter": "python",
   "pygments_lexer": "ipython3",
   "version": "3.7.4"
  }
 },
 "nbformat": 4,
 "nbformat_minor": 4
}
